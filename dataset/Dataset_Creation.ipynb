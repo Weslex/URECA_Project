{
 "cells": [
  {
   "cell_type": "markdown",
   "id": "b77217b9-3949-4195-b28a-17d07631a0ca",
   "metadata": {},
   "source": [
    "## MNIST Image Segmentation Dataset\n",
    "### Wesley Mitchell"
   ]
  },
  {
   "cell_type": "code",
   "execution_count": 164,
   "id": "8a29edc3-f4f9-4ff2-8c3d-cf63b3128e42",
   "metadata": {},
   "outputs": [],
   "source": [
    "import tensorflow as tf\n",
    "import os \n",
    "import tensorflow.keras as keras\n",
    "from PIL import Image\n",
    "import numpy as np\n",
    "import matplotlib.pyplot as plt\n",
    "import random\n",
    "from sklearn.utils import shuffle"
   ]
  },
  {
   "cell_type": "markdown",
   "id": "f8c2de8c-d46a-4cd2-aeaf-72a3a5c81512",
   "metadata": {},
   "source": [
    "#### Create the Dataset"
   ]
  },
  {
   "cell_type": "code",
   "execution_count": 165,
   "id": "b3aa3e8b-fed6-4115-b7c3-f1afc180fd24",
   "metadata": {},
   "outputs": [],
   "source": [
    "#load the normal MNIST dataset\n",
    "(x_single_train, y_single_train), (x_single_valid, y_single_valid) = keras.datasets.mnist.load_data()"
   ]
  },
  {
   "cell_type": "code",
   "execution_count": 166,
   "id": "8b526654-b072-4465-90d6-2200fe55de42",
   "metadata": {},
   "outputs": [
    {
     "data": {
      "image/png": "[encoded data removed]",
      "text/plain": [
       "<Figure size 640x480 with 1 Axes>"
      ]
     },
     "metadata": {},
     "output_type": "display_data"
    }
   ],
   "source": [
    "#display one of the examples from the MNIST dataset\n",
    "x_single_train.shape\n",
    "plt.imshow(x_single_train[1])\n",
    "plt.show()"
   ]
  },
  {
   "cell_type": "code",
   "execution_count": 167,
   "id": "63aad06c-3cc6-4fb1-b3f2-a0e92f6ed4e2",
   "metadata": {},
   "outputs": [
    {
     "data": {
      "text/plain": [
       "(60000, 28, 28)"
      ]
     },
     "execution_count": 167,
     "metadata": {},
     "output_type": "execute_result"
    }
   ],
   "source": [
    "x_single_train.shape"
   ]
  },
  {
   "cell_type": "code",
   "execution_count": 168,
   "id": "84efa1ff-9da6-4f16-9842-fe5c329e87a0",
   "metadata": {},
   "outputs": [
    {
     "data": {
      "text/plain": [
       "(10000, 28, 28)"
      ]
     },
     "execution_count": 168,
     "metadata": {},
     "output_type": "execute_result"
    }
   ],
   "source": [
    "x_single_valid.shape"
   ]
  },
  {
   "cell_type": "code",
   "execution_count": 169,
   "id": "357e06ea-6f73-475b-8c40-dc809a8393c4",
   "metadata": {},
   "outputs": [],
   "source": [
    "#function to stitch the examples from the MNIST dataset together\n",
    "def stitch_images_randomly(images, final_width, final_height, min_scale, max_scale):\n",
    "    final_image = np.zeros((final_height, final_width), dtype=np.uint8)\n",
    "\n",
    "    def generate_random_position(image_width, image_height):\n",
    "        x = random.randint(0, final_width - image_width)\n",
    "        y = random.randint(0, final_height - image_height)\n",
    "        return x, y\n",
    "\n",
    "    def is_overlap(position1, size1, position2, size2):\n",
    "        x1, y1 = position1\n",
    "        w1, h1 = size1\n",
    "        x2, y2 = position2\n",
    "        w2, h2 = size2\n",
    "        \n",
    "\n",
    "        return not (x1 + w1 <= x2 or x1 >= x2 + w2 or y1 + h1 <= y2 or y1 >= y2 + h2)\n",
    "    \n",
    "    def random_scale_image(image_array, min_scale, max_scale):\n",
    "        scale_factor = random.uniform(min_scale, max_scale)\n",
    "\n",
    "        image = Image.fromarray(image_array)\n",
    "\n",
    "        new_width = int(image.width * scale_factor)\n",
    "        new_height = int(image.height * scale_factor)\n",
    "\n",
    "        resized_image = image.resize((new_width, new_height), Image.ANTIALIAS)\n",
    "\n",
    "        resized_image_array = np.array(resized_image)\n",
    "\n",
    "        return resized_image_array\n",
    "\n",
    "    positions = []\n",
    "    \n",
    "    scaled_images = []\n",
    "    \n",
    "    for i in range(len(images)):\n",
    "        scaled_images.append(random_scale_image(images[i], min_scale, max_scale))\n",
    "    scaled_images = np.array(scaled_images, dtype=object)\n",
    "        \n",
    "    for image in scaled_images:\n",
    "        image_height, image_width = image.shape\n",
    "        while True:\n",
    "            position = generate_random_position(image_width, image_height)\n",
    "            if not any(is_overlap(position, image.shape[:2][::-1], pos, img_arr.shape[:2][::-1]) for pos, img_arr in zip(positions, images)):\n",
    "                positions.append(position)\n",
    "                break\n",
    "\n",
    "    for image, position in zip(scaled_images, positions):\n",
    "        x, y = position\n",
    "        h, w = image.shape\n",
    "        final_image[y:y+h, x:x+w] = image\n",
    "\n",
    "    return final_image"
   ]
  },
  {
   "cell_type": "code",
   "execution_count": 170,
   "id": "b06efafd-fef0-46d3-af5d-4b10945f8b25",
   "metadata": {},
   "outputs": [
    {
     "name": "stdout",
     "output_type": "stream",
     "text": [
      "6000\n"
     ]
    },
    {
     "name": "stderr",
     "output_type": "stream",
     "text": [
      "/var/folders/v2/s2y1gdr11p7fdcykb6wjsbf00000gn/T/ipykernel_17140/2633005857.py:27: DeprecationWarning: ANTIALIAS is deprecated and will be removed in Pillow 10 (2023-07-01). Use LANCZOS or Resampling.LANCZOS instead.\n",
      "  resized_image = image.resize((new_width, new_height), Image.ANTIALIAS)\n"
     ]
    }
   ],
   "source": [
    "#create the stitched images\n",
    "final_image_height = 100\n",
    "final_image_width = 100\n",
    "num_images = 1\n",
    "variations = 4\n",
    "images_per_class_train = len(x_single_train) // 10\n",
    "print(images_per_class_train)\n",
    "images_per_class_valid = len(x_single_valid) // 10\n",
    "scales = [(1, 2, 1), (.5, 1.3, 2), (.5, 1.3, 3), (.5, 1.3, 4)] \n",
    "\n",
    "x_train_stitched = []\n",
    "y_train_stitched = [] \n",
    "x_valid_stitched = []\n",
    "y_valid_stitched = []\n",
    "for vari in range(variations):\n",
    "    for i in range(0, images_per_class_train * scales[vari][2], scales[vari][2]):\n",
    "        x_train_stitched.append(stitch_images_randomly(x_single_train[i:i+scales[vari][2]], final_image_width, final_image_height, scales[vari][0], scales[vari][1]))\n",
    "        y_train_stitched.append(tuple(y_single_train[j] for j in range(i, i+scales[vari][2])))\n",
    "\n",
    "    for i in range(0, images_per_class_valid * scales[vari][2], scales[vari][2]):\n",
    "        x_valid_stitched.append(stitch_images_randomly(x_single_valid[i:i+scales[vari][2]], final_image_width, final_image_height, scales[vari][0], scales[vari][1]))\n",
    "        y_valid_stitched.append(tuple(y_single_valid[j] for j in range(i, i+scales[vari][2])))"
   ]
  },
  {
   "cell_type": "code",
   "execution_count": 171,
   "id": "0e1838a6-c476-4d80-8d0f-eeccd2172214",
   "metadata": {},
   "outputs": [],
   "source": [
    "#convert the stitched MNIST examples to numpy arrays\n",
    "x_train_stitched = np.array(x_train_stitched)\n",
    "y_train_stitched = np.array(y_train_stitched, dtype=object)\n",
    "\n",
    "x_valid_stitched = np.array(x_valid_stitched)\n",
    "y_valid_stitched = np.array(y_valid_stitched, dtype=object)\n",
    "\n",
    "#shuffle the training and validation datasets\n",
    "x_train_stitched, y_train_stitched = shuffle(x_train_stitched, y_train_stitched)\n",
    "x_valid_stitched, y_valid_stitched = shuffle(x_valid_stitched, y_valid_stitched)"
   ]
  },
  {
   "cell_type": "code",
   "execution_count": 172,
   "id": "5e003255-b931-4375-a547-723d40431e92",
   "metadata": {},
   "outputs": [
    {
     "data": {
      "image/png": "[encoded data removed]",
      "text/plain": [
       "<Figure size 640x480 with 4 Axes>"
      ]
     },
     "metadata": {},
     "output_type": "display_data"
    }
   ],
   "source": [
    "#display four examples of the training dataset with labels\n",
    "plt.subplots_adjust(hspace=0.3)\n",
    "plt.subplot(1, 4, 1)\n",
    "plt.title(y_train_stitched[0])\n",
    "plt.axis('off')\n",
    "plt.imshow(x_train_stitched[0], cmap='gray')\n",
    "\n",
    "plt.subplot(1, 4, 2)\n",
    "plt.title(y_train_stitched[1])\n",
    "plt.axis('off')\n",
    "plt.imshow(x_train_stitched[1], cmap='gray')\n",
    "\n",
    "plt.subplot(1, 4, 3)\n",
    "plt.title(y_train_stitched[2])\n",
    "plt.axis('off')\n",
    "plt.imshow(x_train_stitched[2], cmap='gray')\n",
    "\n",
    "plt.subplot(1, 4, 4)\n",
    "plt.title(y_train_stitched[3])\n",
    "plt.axis('off')\n",
    "plt.imshow(x_train_stitched[3], cmap='gray')\n",
    "\n",
    "plt.show()"
   ]
  },
  {
   "cell_type": "markdown",
   "id": "193a0a9f-7014-41f1-9baa-fc5647a289c6",
   "metadata": {},
   "source": [
    "#### Save the Dataset to a Directory"
   ]
  },
  {
   "cell_type": "code",
   "execution_count": 173,
   "id": "c51b34d3-411b-43f3-9907-519cb73d2273",
   "metadata": {},
   "outputs": [],
   "source": [
    "#pathes to the directories for training and validation datasets\n",
    "train_directory = 'StitchedMNIST/train'\n",
    "valid_directory = 'StitchedMNIST/validation'\n",
    "\n",
    "#function to save an individual image\n",
    "def save_image(image_array, file_path):\n",
    "    image = Image.fromarray(image_array)\n",
    "    image.save(file_path)\n"
   ]
  },
  {
   "cell_type": "code",
   "execution_count": 174,
   "id": "ed9f94df-6a5a-4c5c-8dc3-6ee4352f135a",
   "metadata": {},
   "outputs": [],
   "source": [
    "#save each of the images in training set to the training directory\n",
    "for i, img in enumerate(x_train_stitched):\n",
    "    file_name = f'examples/image_{i:05}.png'\n",
    "    file_path = os.path.join(train_directory, file_name)\n",
    "    save_image(img, file_path)"
   ]
  },
  {
   "cell_type": "code",
   "execution_count": 175,
   "id": "99fa2cae-9b4c-45f2-80d9-72e0b78e3559",
   "metadata": {},
   "outputs": [],
   "source": [
    "#save each of the labels for the training dataset\n",
    "train_labels_file = open(f\"{train_directory}/labels.txt\", \"w\")\n",
    "\n",
    "for label in y_train_stitched:\n",
    "    label_str = str(label)\n",
    "    label_str = label_str.replace(\"(\", \"\").replace(\")\", \"\")\n",
    "    \n",
    "    if len(label_str) == 2:\n",
    "        label_str = label_str[0]\n",
    "        \n",
    "    train_labels_file.write(label_str + \"\\n\")\n",
    "    \n",
    "train_labels_file.close()"
   ]
  },
  {
   "cell_type": "code",
   "execution_count": 176,
   "id": "48db7b80-ec7f-419a-8f93-5a2fcb636c55",
   "metadata": {},
   "outputs": [],
   "source": [
    "#save each of the images in validation set to the validation directory\n",
    "for i, img in enumerate(x_valid_stitched):\n",
    "    file_name = f'examples/image_{i:05}.png'\n",
    "    file_path = os.path.join(valid_directory, file_name)\n",
    "    save_image(img, file_path)"
   ]
  },
  {
   "cell_type": "code",
   "execution_count": 177,
   "id": "ff0fdf08-6902-4dfe-80ac-b77d75056bd7",
   "metadata": {},
   "outputs": [],
   "source": [
    "#save each of the labels for the validation dataset\n",
    "valid_labels_file = open(f\"{valid_directory}/labels.txt\", \"w\")\n",
    "\n",
    "for label in y_train_stitched:\n",
    "    label_str = str(label)\n",
    "        \n",
    "    label_str = label_str.replace(\"(\", \"\").replace(\")\", \"\")\n",
    "    \n",
    "    if len(label_str) == 2:\n",
    "        label_str = label_str[0]\n",
    "        \n",
    "    valid_labels_file.write(label_str + \"\\n\")\n",
    "    \n",
    "valid_labels_file.close()"
   ]
  },
  {
   "cell_type": "markdown",
   "id": "569faa44",
   "metadata": {},
   "source": [
    "#### Create the Pretraining Dataset"
   ]
  },
  {
   "cell_type": "code",
   "execution_count": 178,
   "id": "f5e7ce80",
   "metadata": {},
   "outputs": [
    {
     "name": "stderr",
     "output_type": "stream",
     "text": [
      "/var/folders/v2/s2y1gdr11p7fdcykb6wjsbf00000gn/T/ipykernel_17140/2633005857.py:27: DeprecationWarning: ANTIALIAS is deprecated and will be removed in Pillow 10 (2023-07-01). Use LANCZOS or Resampling.LANCZOS instead.\n",
      "  resized_image = image.resize((new_width, new_height), Image.ANTIALIAS)\n"
     ]
    }
   ],
   "source": [
    "#create 100 x 100 images from the MNIST dataset with random scales and positions\n",
    "final_image_height = 100\n",
    "final_image_width = 100\n",
    "num_images = 1\n",
    "variations = 1\n",
    "images_per_class_train = len(x_single_train)\n",
    "images_per_class_valid = len(x_single_valid)\n",
    "scales = [(1, 2, 1)] \n",
    "x_train_pretrain = []\n",
    "y_train_pretrain = [] \n",
    "x_valid_pretrain = []\n",
    "y_valid_pretrain = []\n",
    "for vari in range(variations):\n",
    "    for i in range(0, images_per_class_train * scales[vari][2], scales[vari][2]):\n",
    "        x_train_pretrain.append(stitch_images_randomly(x_single_train[i:i+scales[vari][2]], final_image_width, final_image_height, scales[vari][0], scales[vari][1]))\n",
    "        y_train_pretrain.append(tuple(y_single_train[j] for j in range(i, i+scales[vari][2])))\n",
    "\n",
    "    for i in range(0, images_per_class_valid * scales[vari][2], scales[vari][2]):\n",
    "        x_valid_pretrain.append(stitch_images_randomly(x_single_valid[i:i+scales[vari][2]], final_image_width, final_image_height, scales[vari][0], scales[vari][1]))\n",
    "        y_valid_pretrain.append(tuple(y_single_valid[j] for j in range(i, i+scales[vari][2])))"
   ]
  },
  {
   "cell_type": "code",
   "execution_count": 179,
   "id": "a47731e4",
   "metadata": {},
   "outputs": [
    {
     "data": {
      "text/plain": [
       "<matplotlib.image.AxesImage at 0x290f7e800>"
      ]
     },
     "execution_count": 179,
     "metadata": {},
     "output_type": "execute_result"
    },
    {
     "data": {
      "image/png": "[encoded data removed]",
      "text/plain": [
       "<Figure size 640x480 with 1 Axes>"
      ]
     },
     "metadata": {},
     "output_type": "display_data"
    }
   ],
   "source": [
    "plt.imshow(x_train_pretrain[4])"
   ]
  },
  {
   "cell_type": "code",
   "execution_count": 180,
   "id": "ded9fb76",
   "metadata": {},
   "outputs": [],
   "source": [
    "#convert the stitched MNIST examples to numpy arrays\n",
    "x_train_pretrain = np.array(x_train_pretrain)\n",
    "y_train_pretrain = np.array(y_train_pretrain, dtype=object)\n",
    "\n",
    "x_valid_pretrain = np.array(x_valid_pretrain)\n",
    "y_valid_pretrain = np.array(y_valid_pretrain, dtype=object)\n",
    "\n",
    "#shuffle the training and validation datasets\n",
    "x_train_pretrain, y_train_pretrain = shuffle(x_train_pretrain, y_train_pretrain)\n",
    "x_valid_pretrain, y_valid_pretrain = shuffle(x_valid_pretrain, y_valid_pretrain)"
   ]
  },
  {
   "cell_type": "code",
   "execution_count": 181,
   "id": "ced3757e",
   "metadata": {},
   "outputs": [],
   "source": [
    "#pathes to the directories for training and validation datasets for pretraining dataset\n",
    "train_directory = 'Pretraining/train'\n",
    "valid_directory = 'Pretraining/validation'"
   ]
  },
  {
   "cell_type": "code",
   "execution_count": 182,
   "id": "71097ba6",
   "metadata": {},
   "outputs": [],
   "source": [
    "#save each of the images in training set to the training directory\n",
    "for i, img in enumerate(x_train_pretrain):\n",
    "    file_name = f'examples/image_{i:05}.png'\n",
    "    file_path = os.path.join(train_directory, file_name)\n",
    "    save_image(img, file_path)"
   ]
  },
  {
   "cell_type": "code",
   "execution_count": 183,
   "id": "4938d869",
   "metadata": {},
   "outputs": [],
   "source": [
    "#save each of the labels for the training dataset\n",
    "train_labels_file = open(f\"{train_directory}/labels.txt\", \"w\")\n",
    "\n",
    "for label in y_train_pretrain:\n",
    "    label_str = str(label)\n",
    "    label_str = label_str.replace(\"[\", \"\").replace(\"]\", \"\")\n",
    "    \n",
    "    if len(label_str) == 2:\n",
    "        label_str = label_str[0]\n",
    "        \n",
    "    train_labels_file.write(label_str + \"\\n\")\n",
    "    \n",
    "train_labels_file.close()"
   ]
  },
  {
   "cell_type": "code",
   "execution_count": 184,
   "id": "23a084f9",
   "metadata": {},
   "outputs": [],
   "source": [
    "#save each of the images in validation set to the validation directory\n",
    "for i, img in enumerate(x_valid_pretrain):\n",
    "    file_name = f'examples/image_{i:05}.png'\n",
    "    file_path = os.path.join(valid_directory, file_name)\n",
    "    save_image(img, file_path)"
   ]
  },
  {
   "cell_type": "code",
   "execution_count": 185,
   "id": "09357bb3",
   "metadata": {},
   "outputs": [],
   "source": [
    "#save each of the labels for the validation dataset\n",
    "valid_labels_file = open(f\"{valid_directory}/labels.txt\", \"w\")\n",
    "\n",
    "for label in y_valid_pretrain:\n",
    "    label_str = str(label)\n",
    "        \n",
    "    label_str = label_str.replace(\"[\", \"\").replace(\"]\", \"\")\n",
    "    \n",
    "    if len(label_str) == 2:\n",
    "        label_str = label_str[0]\n",
    "        \n",
    "    valid_labels_file.write(label_str + \"\\n\")\n",
    "    \n",
    "valid_labels_file.close()"
   ]
  },
  {
   "cell_type": "code",
   "execution_count": null,
   "id": "d82f1d40",
   "metadata": {},
   "outputs": [],
   "source": []
  },
  {
   "cell_type": "code",
   "execution_count": null,
   "id": "176d3881",
   "metadata": {},
   "outputs": [],
   "source": []
  },
  {
   "cell_type": "code",
   "execution_count": null,
   "id": "debfc7f3",
   "metadata": {},
   "outputs": [],
   "source": []
  },
  {
   "cell_type": "code",
   "execution_count": null,
   "id": "4c9d9067",
   "metadata": {},
   "outputs": [],
   "source": []
  }
 ],
 "metadata": {
  "kernelspec": {
   "display_name": "Tensorflow",
   "language": "python",
   "name": "tensorflow"
  },
  "language_info": {
   "codemirror_mode": {
    "name": "ipython",
    "version": 3
   },
   "file_extension": ".py",
   "mimetype": "text/x-python",
   "name": "python",
   "nbconvert_exporter": "python",
   "pygments_lexer": "ipython3",
   "version": "3.10.10"
  }
 },
 "nbformat": 4,
 "nbformat_minor": 5
}
