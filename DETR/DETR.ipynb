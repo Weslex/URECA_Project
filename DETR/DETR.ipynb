{
 "cells": [
  {
   "cell_type": "markdown",
   "id": "6a7ef7eb",
   "metadata": {},
   "source": [
    "## Wesley Mitchell\n",
    "### DETR Implementation"
   ]
  },
  {
   "cell_type": "markdown",
   "id": "9fa56e29",
   "metadata": {},
   "source": []
  }
 ],
 "metadata": {
  "kernelspec": {
   "display_name": "Tensorflow",
   "language": "python",
   "name": "tensorflow"
  },
  "language_info": {
   "codemirror_mode": {
    "name": "ipython",
    "version": 3
   },
   "file_extension": ".py",
   "mimetype": "text/x-python",
   "name": "python",
   "nbconvert_exporter": "python",
   "pygments_lexer": "ipython3",
   "version": "3.10.10"
  }
 },
 "nbformat": 4,
 "nbformat_minor": 5
}
